{
  "nbformat": 4,
  "nbformat_minor": 0,
  "metadata": {
    "colab": {
      "provenance": [],
      "authorship_tag": "ABX9TyM1hsuF4flfjnpn+zNdpTCR",
      "include_colab_link": true
    },
    "kernelspec": {
      "name": "python3",
      "display_name": "Python 3"
    },
    "language_info": {
      "name": "python"
    }
  },
  "cells": [
    {
      "cell_type": "markdown",
      "metadata": {
        "id": "view-in-github",
        "colab_type": "text"
      },
      "source": [
        "<a href=\"https://colab.research.google.com/github/2303A51562-saikumar/AIML-2025/blob/main/LAB07.ipynb\" target=\"_parent\"><img src=\"https://colab.research.google.com/assets/colab-badge.svg\" alt=\"Open In Colab\"/></a>"
      ]
    },
    {
      "cell_type": "code",
      "execution_count": 1,
      "metadata": {
        "id": "8yXWNa38cwkn"
      },
      "outputs": [],
      "source": [
        "import pandas as pd\n",
        "import numpy as np\n",
        "import matplotlib.pyplot as plt\n",
        "import seaborn as sns\n",
        "%matplotlib inline"
      ]
    },
    {
      "cell_type": "markdown",
      "source": [
        "# Get the Data\n"
      ],
      "metadata": {
        "id": "OOy2OZa9dbKW"
      }
    },
    {
      "cell_type": "markdown",
      "source": [
        "we'll use the built in breast cancer dataset from Scikit"
      ],
      "metadata": {
        "id": "Ku9K3RRSdiVO"
      }
    },
    {
      "cell_type": "code",
      "source": [],
      "metadata": {
        "id": "j7wAXMgPd-s9"
      },
      "execution_count": null,
      "outputs": []
    },
    {
      "cell_type": "code",
      "source": [],
      "metadata": {
        "id": "IY-pgEdCd29m"
      },
      "execution_count": null,
      "outputs": []
    }
  ]
}